{
 "cells": [
  {
   "cell_type": "code",
   "execution_count": 2,
   "metadata": {},
   "outputs": [
    {
     "name": "stdout",
     "output_type": "stream",
     "text": [
      "Hello! My name is Alice.\n",
      "What is your name?\n",
      "js\n",
      "Well, js, guess my birthday from 1 to 30.\n",
      "9\n",
      "Guess a later day.\n"
     ]
    }
   ],
   "source": [
    "#this is a birthday match game.\n",
    "print('Hello! My name is Alice.')\n",
    "print('What is your name?')\n",
    "myName = input()\n",
    "\n",
    "realDay = 5\n",
    "print('Well, ' + myName + ', guess my birthday from 1 to 30.')\n",
    "\n",
    "Try= input()\n",
    "Try=float(Try)\n",
    "\n",
    "if not Try%1==0:\n",
    "    print('That`s nono')\n",
    "elif realDay==Try:\n",
    "    print(\"Good job, \"+ myName+\"! you guessed my birthday.\")\n",
    "elif 30>= Try >5:\n",
    "    print('Guess a later day.')\n",
    "elif 5>Try>=1:\n",
    "    print('Guess a earlier day.')\n",
    "else:\n",
    "    print(\"That`s funny.:) \")"
   ]
  },
  {
   "cell_type": "markdown",
   "metadata": {},
   "source": [
    "### "
   ]
  }
 ],
 "metadata": {
  "kernelspec": {
   "display_name": "Python 3",
   "language": "python",
   "name": "python3"
  },
  "language_info": {
   "codemirror_mode": {
    "name": "ipython",
    "version": 3
   },
   "file_extension": ".py",
   "mimetype": "text/x-python",
   "name": "python",
   "nbconvert_exporter": "python",
   "pygments_lexer": "ipython3",
   "version": "3.6.5"
  }
 },
 "nbformat": 4,
 "nbformat_minor": 2
}
